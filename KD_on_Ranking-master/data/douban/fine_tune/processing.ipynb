{
 "cells": [
  {
   "cell_type": "code",
   "execution_count": 21,
   "metadata": {
    "pycharm": {
     "name": "#%%\n"
    }
   },
   "outputs": [],
   "source": [
    "\n",
    "import numpy as np\n",
    "import pandas as pd"
   ]
  },
  {
   "cell_type": "code",
   "execution_count": 22,
   "metadata": {
    "pycharm": {
     "name": "#%%\n"
    }
   },
   "outputs": [
    {
     "data": {
      "text/html": [
       "<div>\n",
       "<style scoped>\n",
       "    .dataframe tbody tr th:only-of-type {\n",
       "        vertical-align: middle;\n",
       "    }\n",
       "\n",
       "    .dataframe tbody tr th {\n",
       "        vertical-align: top;\n",
       "    }\n",
       "\n",
       "    .dataframe thead th {\n",
       "        text-align: right;\n",
       "    }\n",
       "</style>\n",
       "<table border=\"1\" class=\"dataframe\">\n",
       "  <thead>\n",
       "    <tr style=\"text-align: right;\">\n",
       "      <th></th>\n",
       "      <th>UserId</th>\n",
       "      <th>ItemId</th>\n",
       "      <th>Rating</th>\n",
       "      <th>Timestamp</th>\n",
       "    </tr>\n",
       "  </thead>\n",
       "  <tbody>\n",
       "    <tr>\n",
       "      <th>0</th>\n",
       "      <td>630157</td>\n",
       "      <td>0</td>\n",
       "      <td>5</td>\n",
       "      <td>1.182010e+09</td>\n",
       "    </tr>\n",
       "    <tr>\n",
       "      <th>1</th>\n",
       "      <td>630157</td>\n",
       "      <td>1</td>\n",
       "      <td>5</td>\n",
       "      <td>1.182010e+09</td>\n",
       "    </tr>\n",
       "  </tbody>\n",
       "</table>\n",
       "</div>"
      ],
      "text/plain": [
       "   UserId  ItemId  Rating     Timestamp\n",
       "0  630157       0       5  1.182010e+09\n",
       "1  630157       1       5  1.182010e+09"
      ]
     },
     "execution_count": 22,
     "metadata": {},
     "output_type": "execute_result"
    }
   ],
   "source": [
    "data_pd = pd.read_csv(\"douban_movie.tsv\",header=0,sep='\\t')\n",
    "data_pd.head(2)"
   ]
  },
  {
   "cell_type": "code",
   "execution_count": 23,
   "metadata": {
    "pycharm": {
     "name": "#%%\n"
    }
   },
   "outputs": [
    {
     "data": {
      "text/html": [
       "<div>\n",
       "<style scoped>\n",
       "    .dataframe tbody tr th:only-of-type {\n",
       "        vertical-align: middle;\n",
       "    }\n",
       "\n",
       "    .dataframe tbody tr th {\n",
       "        vertical-align: top;\n",
       "    }\n",
       "\n",
       "    .dataframe thead th {\n",
       "        text-align: right;\n",
       "    }\n",
       "</style>\n",
       "<table border=\"1\" class=\"dataframe\">\n",
       "  <thead>\n",
       "    <tr style=\"text-align: right;\">\n",
       "      <th></th>\n",
       "      <th>UserId</th>\n",
       "      <th>ItemId</th>\n",
       "      <th>Rating</th>\n",
       "      <th>Timestamp</th>\n",
       "      <th>date</th>\n",
       "    </tr>\n",
       "  </thead>\n",
       "  <tbody>\n",
       "    <tr>\n",
       "      <th>0</th>\n",
       "      <td>630157</td>\n",
       "      <td>0</td>\n",
       "      <td>5</td>\n",
       "      <td>1.182010e+09</td>\n",
       "      <td>2007-06-16 16:00:00</td>\n",
       "    </tr>\n",
       "    <tr>\n",
       "      <th>1</th>\n",
       "      <td>630157</td>\n",
       "      <td>1</td>\n",
       "      <td>5</td>\n",
       "      <td>1.182010e+09</td>\n",
       "      <td>2007-06-16 16:00:00</td>\n",
       "    </tr>\n",
       "  </tbody>\n",
       "</table>\n",
       "</div>"
      ],
      "text/plain": [
       "   UserId  ItemId  Rating     Timestamp                date\n",
       "0  630157       0       5  1.182010e+09 2007-06-16 16:00:00\n",
       "1  630157       1       5  1.182010e+09 2007-06-16 16:00:00"
      ]
     },
     "execution_count": 23,
     "metadata": {},
     "output_type": "execute_result"
    }
   ],
   "source": [
    "data_pd['date'] = pd.to_datetime(data_pd['Timestamp'],unit='s')\n",
    "data_pd.head(2)"
   ]
  },
  {
   "cell_type": "code",
   "execution_count": 24,
   "metadata": {
    "pycharm": {
     "name": "#%%\n"
    }
   },
   "outputs": [
    {
     "data": {
      "text/plain": [
       "Timestamp('2005-05-08 16:00:00')"
      ]
     },
     "execution_count": 24,
     "metadata": {},
     "output_type": "execute_result"
    }
   ],
   "source": [
    "data_pd['date'].min()"
   ]
  },
  {
   "cell_type": "code",
   "execution_count": 25,
   "metadata": {
    "pycharm": {
     "name": "#%%\n"
    }
   },
   "outputs": [
    {
     "data": {
      "text/plain": [
       "Timestamp('2017-03-17 16:00:00')"
      ]
     },
     "execution_count": 25,
     "metadata": {},
     "output_type": "execute_result"
    }
   ],
   "source": [
    "data_pd['date'].max()"
   ]
  },
  {
   "cell_type": "code",
   "execution_count": 26,
   "metadata": {
    "pycharm": {
     "name": "#%%\n"
    }
   },
   "outputs": [
    {
     "data": {
      "text/plain": [
       "(11742260, 5)"
      ]
     },
     "execution_count": 26,
     "metadata": {},
     "output_type": "execute_result"
    }
   ],
   "source": [
    "data_pd.shape"
   ]
  },
  {
   "cell_type": "code",
   "execution_count": 27,
   "metadata": {
    "pycharm": {
     "name": "#%%\n"
    }
   },
   "outputs": [
    {
     "data": {
      "text/html": [
       "<div>\n",
       "<style scoped>\n",
       "    .dataframe tbody tr th:only-of-type {\n",
       "        vertical-align: middle;\n",
       "    }\n",
       "\n",
       "    .dataframe tbody tr th {\n",
       "        vertical-align: top;\n",
       "    }\n",
       "\n",
       "    .dataframe thead th {\n",
       "        text-align: right;\n",
       "    }\n",
       "</style>\n",
       "<table border=\"1\" class=\"dataframe\">\n",
       "  <thead>\n",
       "    <tr style=\"text-align: right;\">\n",
       "      <th></th>\n",
       "      <th>Rating</th>\n",
       "    </tr>\n",
       "    <tr>\n",
       "      <th>year</th>\n",
       "      <th></th>\n",
       "    </tr>\n",
       "  </thead>\n",
       "  <tbody>\n",
       "    <tr>\n",
       "      <th>2005</th>\n",
       "      <td>25035</td>\n",
       "    </tr>\n",
       "    <tr>\n",
       "      <th>2006</th>\n",
       "      <td>193526</td>\n",
       "    </tr>\n",
       "    <tr>\n",
       "      <th>2007</th>\n",
       "      <td>481473</td>\n",
       "    </tr>\n",
       "    <tr>\n",
       "      <th>2008</th>\n",
       "      <td>1308771</td>\n",
       "    </tr>\n",
       "    <tr>\n",
       "      <th>2009</th>\n",
       "      <td>2086100</td>\n",
       "    </tr>\n",
       "    <tr>\n",
       "      <th>2010</th>\n",
       "      <td>1326806</td>\n",
       "    </tr>\n",
       "    <tr>\n",
       "      <th>2011</th>\n",
       "      <td>1041231</td>\n",
       "    </tr>\n",
       "    <tr>\n",
       "      <th>2012</th>\n",
       "      <td>962129</td>\n",
       "    </tr>\n",
       "    <tr>\n",
       "      <th>2013</th>\n",
       "      <td>822223</td>\n",
       "    </tr>\n",
       "    <tr>\n",
       "      <th>2014</th>\n",
       "      <td>952415</td>\n",
       "    </tr>\n",
       "    <tr>\n",
       "      <th>2015</th>\n",
       "      <td>1226247</td>\n",
       "    </tr>\n",
       "    <tr>\n",
       "      <th>2016</th>\n",
       "      <td>1091739</td>\n",
       "    </tr>\n",
       "    <tr>\n",
       "      <th>2017</th>\n",
       "      <td>224565</td>\n",
       "    </tr>\n",
       "  </tbody>\n",
       "</table>\n",
       "</div>"
      ],
      "text/plain": [
       "       Rating\n",
       "year         \n",
       "2005    25035\n",
       "2006   193526\n",
       "2007   481473\n",
       "2008  1308771\n",
       "2009  2086100\n",
       "2010  1326806\n",
       "2011  1041231\n",
       "2012   962129\n",
       "2013   822223\n",
       "2014   952415\n",
       "2015  1226247\n",
       "2016  1091739\n",
       "2017   224565"
      ]
     },
     "execution_count": 27,
     "metadata": {},
     "output_type": "execute_result"
    }
   ],
   "source": [
    "data_pd['year'] = data_pd['date'].dt.year\n",
    "data_pd.groupby(['year']).agg({'Rating':'count'})"
   ]
  },
  {
   "cell_type": "code",
   "execution_count": 28,
   "metadata": {
    "pycharm": {
     "name": "#%%\n"
    }
   },
   "outputs": [
    {
     "data": {
      "text/plain": [
       "(7601284, 6)"
      ]
     },
     "execution_count": 28,
     "metadata": {},
     "output_type": "execute_result"
    }
   ],
   "source": [
    "data_pd = data_pd[data_pd['year']>=2010]\n",
    "data_pd = data_pd.drop_duplicates(subset=['UserId','ItemId'],ignore_index=True)\n",
    "data_pd.shape"
   ]
  },
  {
   "cell_type": "code",
   "execution_count": 29,
   "metadata": {
    "pycharm": {
     "name": "#%%\n"
    }
   },
   "outputs": [
    {
     "data": {
      "text/html": [
       "<div>\n",
       "<style scoped>\n",
       "    .dataframe tbody tr th:only-of-type {\n",
       "        vertical-align: middle;\n",
       "    }\n",
       "\n",
       "    .dataframe tbody tr th {\n",
       "        vertical-align: top;\n",
       "    }\n",
       "\n",
       "    .dataframe thead th {\n",
       "        text-align: right;\n",
       "    }\n",
       "</style>\n",
       "<table border=\"1\" class=\"dataframe\">\n",
       "  <thead>\n",
       "    <tr style=\"text-align: right;\">\n",
       "      <th></th>\n",
       "      <th>ItemId</th>\n",
       "    </tr>\n",
       "    <tr>\n",
       "      <th>Rating</th>\n",
       "      <th></th>\n",
       "    </tr>\n",
       "  </thead>\n",
       "  <tbody>\n",
       "    <tr>\n",
       "      <th>-1</th>\n",
       "      <td>1447871</td>\n",
       "    </tr>\n",
       "    <tr>\n",
       "      <th>1</th>\n",
       "      <td>89091</td>\n",
       "    </tr>\n",
       "    <tr>\n",
       "      <th>2</th>\n",
       "      <td>245356</td>\n",
       "    </tr>\n",
       "    <tr>\n",
       "      <th>3</th>\n",
       "      <td>1420150</td>\n",
       "    </tr>\n",
       "    <tr>\n",
       "      <th>4</th>\n",
       "      <td>2460232</td>\n",
       "    </tr>\n",
       "    <tr>\n",
       "      <th>5</th>\n",
       "      <td>1938584</td>\n",
       "    </tr>\n",
       "  </tbody>\n",
       "</table>\n",
       "</div>"
      ],
      "text/plain": [
       "         ItemId\n",
       "Rating         \n",
       "-1      1447871\n",
       " 1        89091\n",
       " 2       245356\n",
       " 3      1420150\n",
       " 4      2460232\n",
       " 5      1938584"
      ]
     },
     "execution_count": 29,
     "metadata": {},
     "output_type": "execute_result"
    }
   ],
   "source": [
    "data_pd.groupby('Rating').agg({'ItemId':'count'})"
   ]
  },
  {
   "cell_type": "code",
   "execution_count": 30,
   "metadata": {
    "pycharm": {
     "name": "#%%\n"
    }
   },
   "outputs": [],
   "source": [
    "def filter_g_k_one(data,k=10,u_name='user_id',i_name='business_id',y_name='stars'):\n",
    "    item_group = data.groupby(i_name).agg({y_name:'count'})\n",
    "    item_g10 = item_group[item_group[y_name]>=k].index\n",
    "    data_new = data[data[i_name].isin(item_g10)]\n",
    "    user_group = data_new.groupby(u_name).agg({y_name:'count'})\n",
    "    user_g10 = user_group[user_group[y_name]>=k].index\n",
    "    data_new = data_new[data_new[u_name].isin(user_g10)]\n",
    "    return data_new\n",
    "\n",
    "def filter_tot(data,k=10,u_name='user_id',i_name='business_id',y_name='stars'):\n",
    "    data_new=data\n",
    "    while True:\n",
    "        data_new = filter_g_k_one(data_new,k=k,u_name=u_name,i_name=i_name,y_name=y_name)\n",
    "        m1 = data_new.groupby(i_name).agg({y_name:'count'})\n",
    "        m2 = data_new.groupby(u_name).agg({y_name:'count'})\n",
    "        num1 = m1[y_name].min()\n",
    "        num2 = m2[y_name].min()\n",
    "        print('item min:',num1,'user min:',num2)\n",
    "        if num1>=k and num2>=k:\n",
    "            break\n",
    "    return data_new"
   ]
  },
  {
   "cell_type": "code",
   "execution_count": 31,
   "metadata": {
    "pycharm": {
     "name": "#%%\n"
    }
   },
   "outputs": [
    {
     "name": "stdout",
     "output_type": "stream",
     "text": [
      "item min: 5 user min: 10\n",
      "item min: 10 user min: 10\n"
     ]
    },
    {
     "data": {
      "text/plain": [
       "(7363764, 6)"
      ]
     },
     "execution_count": 31,
     "metadata": {},
     "output_type": "execute_result"
    }
   ],
   "source": [
    "data = filter_tot(data_pd,k=10,u_name='UserId',i_name='ItemId',y_name='Rating')\n",
    "data.shape"
   ]
  },
  {
   "cell_type": "code",
   "execution_count": 32,
   "metadata": {
    "pycharm": {
     "name": "#%%\n"
    }
   },
   "outputs": [
    {
     "data": {
      "text/plain": [
       "(48729,)"
      ]
     },
     "execution_count": 32,
     "metadata": {},
     "output_type": "execute_result"
    }
   ],
   "source": [
    "data['UserId'].unique().shape"
   ]
  },
  {
   "cell_type": "code",
   "execution_count": 33,
   "metadata": {
    "pycharm": {
     "name": "#%%\n"
    }
   },
   "outputs": [
    {
     "data": {
      "text/plain": [
       "(26767,)"
      ]
     },
     "execution_count": 33,
     "metadata": {},
     "output_type": "execute_result"
    }
   ],
   "source": [
    "data['ItemId'].unique().shape"
   ]
  },
  {
   "cell_type": "code",
   "execution_count": 34,
   "metadata": {
    "pycharm": {
     "name": "#%%\n"
    }
   },
   "outputs": [],
   "source": [
    "time_min = data['Timestamp'].min()\n",
    "time_max = data['Timestamp'].max()\n",
    "slot_gap = (time_max - time_min) /10\n",
    "data['time_slot'] = data[\"Timestamp\"].apply(lambda x: int(min(int((x-time_min))//slot_gap,9)))\n",
    "data['time_slot'] = data[['time_slot']].astype(np.int)"
   ]
  },
  {
   "cell_type": "code",
   "execution_count": 35,
   "metadata": {
    "pycharm": {
     "name": "#%%\n"
    }
   },
   "outputs": [
    {
     "data": {
      "text/plain": [
       "'2010-09-22 04:48:00'"
      ]
     },
     "execution_count": 35,
     "metadata": {},
     "output_type": "execute_result"
    }
   ],
   "source": [
    "timestamp = time_min + slot_gap\n",
    "import time\n",
    "\n",
    "#转换成localtime\n",
    "time_local = time.localtime(timestamp)\n",
    "dt = time.strftime(\"%Y-%m-%d %H:%M:%S\",time_local)\n",
    "dt"
   ]
  },
  {
   "cell_type": "code",
   "execution_count": 36,
   "metadata": {
    "pycharm": {
     "name": "#%%\n"
    }
   },
   "outputs": [
    {
     "data": {
      "text/html": [
       "<div>\n",
       "<style scoped>\n",
       "    .dataframe tbody tr th:only-of-type {\n",
       "        vertical-align: middle;\n",
       "    }\n",
       "\n",
       "    .dataframe tbody tr th {\n",
       "        vertical-align: top;\n",
       "    }\n",
       "\n",
       "    .dataframe thead th {\n",
       "        text-align: right;\n",
       "    }\n",
       "</style>\n",
       "<table border=\"1\" class=\"dataframe\">\n",
       "  <thead>\n",
       "    <tr style=\"text-align: right;\">\n",
       "      <th></th>\n",
       "      <th>UserId</th>\n",
       "      <th>ItemId</th>\n",
       "      <th>Rating</th>\n",
       "      <th>Timestamp</th>\n",
       "      <th>date</th>\n",
       "      <th>year</th>\n",
       "      <th>time_slot</th>\n",
       "    </tr>\n",
       "  </thead>\n",
       "  <tbody>\n",
       "    <tr>\n",
       "      <th>0</th>\n",
       "      <td>630154</td>\n",
       "      <td>383</td>\n",
       "      <td>5</td>\n",
       "      <td>1.262880e+09</td>\n",
       "      <td>2010-01-07 16:00:00</td>\n",
       "      <td>2010</td>\n",
       "      <td>0</td>\n",
       "    </tr>\n",
       "    <tr>\n",
       "      <th>1</th>\n",
       "      <td>630154</td>\n",
       "      <td>384</td>\n",
       "      <td>5</td>\n",
       "      <td>1.274026e+09</td>\n",
       "      <td>2010-05-16 16:00:00</td>\n",
       "      <td>2010</td>\n",
       "      <td>0</td>\n",
       "    </tr>\n",
       "    <tr>\n",
       "      <th>2</th>\n",
       "      <td>630154</td>\n",
       "      <td>385</td>\n",
       "      <td>4</td>\n",
       "      <td>1.274026e+09</td>\n",
       "      <td>2010-05-16 16:00:00</td>\n",
       "      <td>2010</td>\n",
       "      <td>0</td>\n",
       "    </tr>\n",
       "    <tr>\n",
       "      <th>3</th>\n",
       "      <td>630154</td>\n",
       "      <td>386</td>\n",
       "      <td>3</td>\n",
       "      <td>1.274026e+09</td>\n",
       "      <td>2010-05-16 16:00:00</td>\n",
       "      <td>2010</td>\n",
       "      <td>0</td>\n",
       "    </tr>\n",
       "  </tbody>\n",
       "</table>\n",
       "</div>"
      ],
      "text/plain": [
       "   UserId  ItemId  Rating     Timestamp                date  year  time_slot\n",
       "0  630154     383       5  1.262880e+09 2010-01-07 16:00:00  2010          0\n",
       "1  630154     384       5  1.274026e+09 2010-05-16 16:00:00  2010          0\n",
       "2  630154     385       4  1.274026e+09 2010-05-16 16:00:00  2010          0\n",
       "3  630154     386       3  1.274026e+09 2010-05-16 16:00:00  2010          0"
      ]
     },
     "execution_count": 36,
     "metadata": {},
     "output_type": "execute_result"
    }
   ],
   "source": [
    "data.head(4)"
   ]
  },
  {
   "cell_type": "code",
   "execution_count": 37,
   "metadata": {
    "pycharm": {
     "name": "#%%\n"
    }
   },
   "outputs": [
    {
     "name": "stdout",
     "output_type": "stream",
     "text": [
      "train: 6625965 test: 737799\n"
     ]
    }
   ],
   "source": [
    "train_slots = [0 ,1, 2, 3, 4, 5, 6,7,8]\n",
    "test_slots = [9]\n",
    "data_train = data[data['time_slot'].isin(train_slots)]\n",
    "data_test = data[data['time_slot'].isin(test_slots)]\n",
    "print(\"train:\",data_train.shape[0],'test:',data_test.shape[0])"
   ]
  },
  {
   "cell_type": "code",
   "execution_count": 38,
   "metadata": {
    "pycharm": {
     "name": "#%%\n"
    }
   },
   "outputs": [
    {
     "name": "stdout",
     "output_type": "stream",
     "text": [
      "user not include in user_items_test: (681284, 7)\n",
      "train: 6625965 not-new test: 548253\n",
      "not repeat train: 6625965 not-repeat test: 548253\n"
     ]
    }
   ],
   "source": [
    "user_in_train = data_train['UserId'].unique()\n",
    "item_in_train = data_train['ItemId'].unique()\n",
    "\n",
    "# filter new user/item in train\n",
    "data_test = data_test[data_test['UserId'].isin(user_in_train)]\n",
    "print(\"user not include in user_items_test:\",data_test.shape)\n",
    "data_test = data_test[data_test['ItemId'].isin(item_in_train)]\n",
    "print(\"train:\",data_train.shape[0],'not-new test:',data_test.shape[0])\n",
    "\n",
    "# filter repeat\n",
    "data_train = data_train.drop_duplicates(subset=['UserId','ItemId'],keep='first')\n",
    "data_test = data_test.drop_duplicates(subset=['UserId','ItemId'],keep='first')\n",
    "print(\"not repeat train:\",data_train.shape[0],'not-repeat test:',data_test.shape[0])"
   ]
  },
  {
   "cell_type": "code",
   "execution_count": 39,
   "metadata": {
    "pycharm": {
     "name": "#%%\n"
    }
   },
   "outputs": [
    {
     "name": "stdout",
     "output_type": "stream",
     "text": [
      "user num: (47890,)\n",
      "item num: (26047,)\n"
     ]
    },
    {
     "data": {
      "text/html": [
       "<div>\n",
       "<style scoped>\n",
       "    .dataframe tbody tr th:only-of-type {\n",
       "        vertical-align: middle;\n",
       "    }\n",
       "\n",
       "    .dataframe tbody tr th {\n",
       "        vertical-align: top;\n",
       "    }\n",
       "\n",
       "    .dataframe thead th {\n",
       "        text-align: right;\n",
       "    }\n",
       "</style>\n",
       "<table border=\"1\" class=\"dataframe\">\n",
       "  <thead>\n",
       "    <tr style=\"text-align: right;\">\n",
       "      <th></th>\n",
       "      <th>UserId</th>\n",
       "      <th>ItemId</th>\n",
       "      <th>Rating</th>\n",
       "      <th>Timestamp</th>\n",
       "      <th>date</th>\n",
       "      <th>year</th>\n",
       "      <th>time_slot</th>\n",
       "      <th>uid</th>\n",
       "      <th>iid</th>\n",
       "    </tr>\n",
       "  </thead>\n",
       "  <tbody>\n",
       "    <tr>\n",
       "      <th>157</th>\n",
       "      <td>630154</td>\n",
       "      <td>540</td>\n",
       "      <td>4</td>\n",
       "      <td>1.473782e+09</td>\n",
       "      <td>2016-09-13 16:00:00</td>\n",
       "      <td>2016</td>\n",
       "      <td>9</td>\n",
       "      <td>0</td>\n",
       "      <td>840</td>\n",
       "    </tr>\n",
       "    <tr>\n",
       "      <th>158</th>\n",
       "      <td>630154</td>\n",
       "      <td>541</td>\n",
       "      <td>5</td>\n",
       "      <td>1.481472e+09</td>\n",
       "      <td>2016-12-11 16:00:00</td>\n",
       "      <td>2016</td>\n",
       "      <td>9</td>\n",
       "      <td>0</td>\n",
       "      <td>225</td>\n",
       "    </tr>\n",
       "  </tbody>\n",
       "</table>\n",
       "</div>"
      ],
      "text/plain": [
       "     UserId  ItemId  Rating     Timestamp                date  year  \\\n",
       "157  630154     540       4  1.473782e+09 2016-09-13 16:00:00  2016   \n",
       "158  630154     541       5  1.481472e+09 2016-12-11 16:00:00  2016   \n",
       "\n",
       "     time_slot  uid  iid  \n",
       "157          9    0  840  \n",
       "158          9    0  225  "
      ]
     },
     "execution_count": 39,
     "metadata": {},
     "output_type": "execute_result"
    }
   ],
   "source": [
    "import numpy as np\n",
    "user = data_train['UserId'].unique()\n",
    "item= data_train['ItemId'].unique()\n",
    "user_to_id = dict(zip(list(user),list(np.arange(user.shape[0]))))\n",
    "item_to_id = dict(zip(list(item),list(range(item.shape[0]))))\n",
    "print(\"user num:\",user.shape)\n",
    "print(\"item num:\", item.shape)\n",
    "data_train['uid'] = data_train['UserId'].map(user_to_id)\n",
    "data_train['iid'] = data_train['ItemId'].map(item_to_id)\n",
    "\n",
    "data_test['uid'] = data_test['UserId'].map(user_to_id)\n",
    "data_test['iid'] = data_test['ItemId'].map(item_to_id)\n",
    "\n",
    "data_test.head(2)"
   ]
  },
  {
   "cell_type": "markdown",
   "metadata": {},
   "source": [
    "# data real time "
   ]
  },
  {
   "cell_type": "code",
   "execution_count": 40,
   "metadata": {},
   "outputs": [],
   "source": [
    "data_train_real_time = data_train[['uid','iid','time_slot','Rating','Timestamp']]\n",
    "data_train_real_time.columns = ['uid','iid','time_slot','click','time']\n",
    "def get_last_1_N(rate):\n",
    "    data_last = data_train_real_time[data_train_real_time['time_slot'].isin([8])]\n",
    "    time_min = data_last['time'].min()\n",
    "    time_max = data_last['time'].max()\n",
    "    split_time = time_max - (time_max-time_min)/rate\n",
    "    split_time2 = split_time - (time_max-time_min)/rate\n",
    "    \n",
    "    real_time = data_last[['time']].values[:,0].copy()\n",
    "    index1 = np.where(real_time>=split_time)\n",
    "    index2 = np.where(real_time< split_time)\n",
    "    index3 = np.where(real_time >= split_time2 )\n",
    "    index3 = np.intersect1d(index2,index3)\n",
    "    real_time[index1] = 2\n",
    "    real_time[index2] = 0\n",
    "    real_time[index3] = 1\n",
    "    sub_slot = real_time.astype(int)\n",
    "    data_last['sub_slot'] = pd.DataFrame(sub_slot,index=data_last.index)\n",
    "    \n",
    "    sub_last = data_last[data_last['sub_slot'].isin([2])]\n",
    "    sub_pre_last = data_last[data_last['sub_slot'].isin([1])]\n",
    "    \n",
    "    count_last = sub_last.groupby('iid').agg({'click':'count'})\n",
    "    index_last = count_last.index\n",
    "    count_pre_last = sub_pre_last.groupby('iid').agg({'click':'count'})\n",
    "    index_pre_last = count_pre_last.index\n",
    "    \n",
    "    pop_last = np.ones(128879)\n",
    "    pop_pre_last = np.ones(128879)\n",
    "    \n",
    "    pop_last[index_last] = count_last['click'].values + 1\n",
    "    pop_pre_last[index_pre_last] = count_pre_last['click'].values + 1\n",
    "    \n",
    "    pop_last = pop_last/pop_last.sum()\n",
    "    pop_last = (pop_last - pop_last.min())/(pop_last.max()-pop_last.min())\n",
    "    \n",
    "    pop_pre_last = pop_pre_last / pop_pre_last.sum()\n",
    "    pop_pre_last = (pop_pre_last - pop_pre_last.min())/(pop_pre_last.max() - pop_pre_last.min())\n",
    "    \n",
    "    sub_last.sort_values('uid',inplace=True)\n",
    "    sub_pre_last.sort_values('uid',inplace=True)\n",
    "    return sub_last,sub_pre_last,pop_last,pop_pre_last\n",
    "    \n",
    "def saving_one_u(train_itr,fname):\n",
    "    with open(fname,'w') as f:\n",
    "        u_pre = train_itr[0,0]\n",
    "        k = 0\n",
    "        for x in train_itr:\n",
    "            u = x[0]\n",
    "            i = x[1]\n",
    "            if u !=u_pre or k==0:\n",
    "                u_pre = u\n",
    "                if k>0:\n",
    "                    f.write('\\n')\n",
    "                f.write(str(u))\n",
    "                k = 1\n",
    "            f.write(' '+str(i))"
   ]
  },
  {
   "cell_type": "code",
   "execution_count": 45,
   "metadata": {},
   "outputs": [
    {
     "name": "stderr",
     "output_type": "stream",
     "text": [
      "<ipython-input-40-8aad407e5b9a>:19: SettingWithCopyWarning: \n",
      "A value is trying to be set on a copy of a slice from a DataFrame.\n",
      "Try using .loc[row_indexer,col_indexer] = value instead\n",
      "\n",
      "See the caveats in the documentation: https://pandas.pydata.org/pandas-docs/stable/user_guide/indexing.html#returning-a-view-versus-a-copy\n",
      "  data_last['sub_slot'] = pd.DataFrame(sub_slot,index=data_last.index)\n",
      "<ipython-input-40-8aad407e5b9a>:41: SettingWithCopyWarning: \n",
      "A value is trying to be set on a copy of a slice from a DataFrame\n",
      "\n",
      "See the caveats in the documentation: https://pandas.pydata.org/pandas-docs/stable/user_guide/indexing.html#returning-a-view-versus-a-copy\n",
      "  sub_last.sort_values('uid',inplace=True)\n",
      "<ipython-input-40-8aad407e5b9a>:42: SettingWithCopyWarning: \n",
      "A value is trying to be set on a copy of a slice from a DataFrame\n",
      "\n",
      "See the caveats in the documentation: https://pandas.pydata.org/pandas-docs/stable/user_guide/indexing.html#returning-a-view-versus-a-copy\n",
      "  sub_pre_last.sort_values('uid',inplace=True)\n"
     ]
    }
   ],
   "source": [
    "sub=\n",
    "sub_last,sub_pre_last,pop_last,pop_pre_last = get_last_1_N(sub)\n",
    "np.save(\"pop_sub{}_last.npy\".format(sub),pop_last)\n",
    "np.save(\"pop_sub{}_pre_last.npy\".format(sub),pop_pre_last)\n",
    "saving_one_u(sub_last.values,'sub_{}.txt'.format(sub))"
   ]
  },
  {
   "cell_type": "code",
   "execution_count": null,
   "metadata": {},
   "outputs": [],
   "source": [
    "train_itr = sub_last[['uid','iid']].values\n",
    "train_itr.shape\n",
    "with open('t_1_8.txt','w') as f:\n",
    "    u_pre = train_itr[0,0]\n",
    "    k = 0\n",
    "    for x in train_itr:\n",
    "        u = x[0]\n",
    "        i = x[1]\n",
    "        if u !=u_pre or k==0:\n",
    "            u_pre = u\n",
    "            if k>0:\n",
    "                f.write('\\n')\n",
    "            f.write(str(u))\n",
    "            k = 1\n",
    "        f.write(' '+str(i))"
   ]
  },
  {
   "cell_type": "markdown",
   "metadata": {},
   "source": [
    "# continue "
   ]
  },
  {
   "cell_type": "code",
   "execution_count": 20,
   "metadata": {
    "pycharm": {
     "name": "#%%\n"
    }
   },
   "outputs": [
    {
     "data": {
      "text/html": [
       "<div>\n",
       "<style scoped>\n",
       "    .dataframe tbody tr th:only-of-type {\n",
       "        vertical-align: middle;\n",
       "    }\n",
       "\n",
       "    .dataframe tbody tr th {\n",
       "        vertical-align: top;\n",
       "    }\n",
       "\n",
       "    .dataframe thead th {\n",
       "        text-align: right;\n",
       "    }\n",
       "</style>\n",
       "<table border=\"1\" class=\"dataframe\">\n",
       "  <thead>\n",
       "    <tr style=\"text-align: right;\">\n",
       "      <th></th>\n",
       "      <th>uid</th>\n",
       "      <th>iid</th>\n",
       "      <th>time_slot</th>\n",
       "      <th>click</th>\n",
       "    </tr>\n",
       "  </thead>\n",
       "  <tbody>\n",
       "    <tr>\n",
       "      <th>157</th>\n",
       "      <td>0</td>\n",
       "      <td>840</td>\n",
       "      <td>9</td>\n",
       "      <td>4</td>\n",
       "    </tr>\n",
       "    <tr>\n",
       "      <th>158</th>\n",
       "      <td>0</td>\n",
       "      <td>225</td>\n",
       "      <td>9</td>\n",
       "      <td>5</td>\n",
       "    </tr>\n",
       "  </tbody>\n",
       "</table>\n",
       "</div>"
      ],
      "text/plain": [
       "     uid  iid  time_slot  click\n",
       "157    0  840          9      4\n",
       "158    0  225          9      5"
      ]
     },
     "execution_count": 20,
     "metadata": {},
     "output_type": "execute_result"
    }
   ],
   "source": [
    "data_train = data_train[['uid','iid','time_slot','Rating']]\n",
    "data_test = data_test[['uid','iid','time_slot','Rating']]\n",
    "#\n",
    "columns = ['uid','iid','time_slot','click']\n",
    "data_train.columns = columns\n",
    "data_test.columns = columns\n",
    "data_test.head(2)"
   ]
  },
  {
   "cell_type": "code",
   "execution_count": null,
   "metadata": {},
   "outputs": [],
   "source": [
    "# real time "
   ]
  },
  {
   "cell_type": "code",
   "execution_count": null,
   "metadata": {},
   "outputs": [],
   "source": []
  },
  {
   "cell_type": "code",
   "execution_count": 21,
   "metadata": {
    "pycharm": {
     "name": "#%%\n"
    }
   },
   "outputs": [],
   "source": [
    "# split testing and valuation"
   ]
  },
  {
   "cell_type": "code",
   "execution_count": 22,
   "metadata": {
    "pycharm": {
     "name": "#%%\n"
    }
   },
   "outputs": [
    {
     "data": {
      "text/plain": [
       "(22821,)"
      ]
     },
     "execution_count": 22,
     "metadata": {},
     "output_type": "execute_result"
    }
   ],
   "source": [
    "data_test['uid'].unique().shape"
   ]
  },
  {
   "cell_type": "code",
   "execution_count": 22,
   "metadata": {
    "pycharm": {
     "name": "#%%\n"
    }
   },
   "outputs": [],
   "source": []
  },
  {
   "cell_type": "code",
   "execution_count": 23,
   "metadata": {
    "pycharm": {
     "name": "#%%\n"
    }
   },
   "outputs": [
    {
     "name": "stdout",
     "output_type": "stream",
     "text": [
      "tot user in the last stage: 22821 real test user: 15974 real valid user: 6847\n"
     ]
    }
   ],
   "source": [
    "test_unique_user = data_test['uid'].unique()\n",
    "N_ = test_unique_user.shape[0]\n",
    "np.random.seed(2020)\n",
    "np.random.shuffle(test_unique_user)\n",
    "split_idx  = int(N_*0.7)\n",
    "test_real_user = test_unique_user[:split_idx]\n",
    "valid_real_user = test_unique_user[split_idx:]\n",
    "print(\"tot user in the last stage:\",N_,\"real test user:\",test_real_user.shape[0],\"real valid user:\",valid_real_user.shape[0])"
   ]
  },
  {
   "cell_type": "code",
   "execution_count": 23,
   "metadata": {
    "pycharm": {
     "name": "#%%\n"
    }
   },
   "outputs": [],
   "source": []
  },
  {
   "cell_type": "code",
   "execution_count": 24,
   "metadata": {
    "pycharm": {
     "name": "#%%\n"
    }
   },
   "outputs": [
    {
     "name": "stdout",
     "output_type": "stream",
     "text": [
      "tot itr: (548253, 4) real test: (379537, 4) real valid: (168716, 4)\n"
     ]
    }
   ],
   "source": [
    "data_real_test = data_test[data_test['uid'].isin(test_real_user)]\n",
    "data_real_valid = data_test[data_test['uid'].isin(valid_real_user)]\n",
    "print(\"tot itr:\",data_test.shape,\"real test:\",data_real_test.shape,\"real valid:\",data_real_valid.shape)"
   ]
  },
  {
   "cell_type": "markdown",
   "metadata": {},
   "source": [
    "# saving"
   ]
  },
  {
   "cell_type": "code",
   "execution_count": 25,
   "metadata": {
    "pycharm": {
     "name": "#%%\n"
    }
   },
   "outputs": [
    {
     "name": "stdout",
     "output_type": "stream",
     "text": [
      "   uid    iid  time_slot  click\n",
      "0    3  16495          9      4\n",
      "1    3  25976          9      3\n",
      "(379537, 2)\n"
     ]
    }
   ],
   "source": [
    "import os\n",
    "path_folder = \"./douban_moive/\"\n",
    "if not os.path.exists(path_folder):\n",
    "    os.mkdir(path_folder)\n",
    "user_items_test = data_real_test.sort_values(by='uid',ignore_index=True)\n",
    "print(user_items_test.head(2))\n",
    "test_itr = user_items_test.values[:,0:2]\n",
    "print(test_itr.shape)\n",
    "with open('./douban_moive/test_real.txt','w') as f:\n",
    "    u_pre = test_itr[0,0]\n",
    "    k = 0\n",
    "    for x in test_itr:\n",
    "        u = x[0]\n",
    "        i = x[1]\n",
    "        if u !=u_pre or k==0:\n",
    "            u_pre = u\n",
    "            if k>0:\n",
    "                f.write('\\n')\n",
    "            f.write(str(u))\n",
    "            k = 1\n",
    "        f.write(' '+str(i))"
   ]
  },
  {
   "cell_type": "code",
   "execution_count": 26,
   "metadata": {
    "pycharm": {
     "name": "#%%\n"
    }
   },
   "outputs": [
    {
     "name": "stdout",
     "output_type": "stream",
     "text": [
      "   uid  iid  time_slot  click\n",
      "0    0  840          9      4\n",
      "1    0  225          9      5\n",
      "(168716, 2)\n"
     ]
    }
   ],
   "source": [
    "\n",
    "user_items_test = data_real_valid.sort_values(by='uid',ignore_index=True)\n",
    "print(user_items_test.head(2))\n",
    "test_itr = user_items_test.values[:,0:2]\n",
    "print(test_itr.shape)\n",
    "with open('./douban_moive/valid_real.txt','w') as f:\n",
    "    u_pre = test_itr[0,0]\n",
    "    k = 0\n",
    "    for x in test_itr:\n",
    "        u = x[0]\n",
    "        i = x[1]\n",
    "        if u !=u_pre or k==0:\n",
    "            u_pre = u\n",
    "            if k>0:\n",
    "                f.write('\\n')\n",
    "            f.write(str(u))\n",
    "            k = 1\n",
    "        f.write(' '+str(i))"
   ]
  },
  {
   "cell_type": "code",
   "execution_count": 26,
   "metadata": {
    "pycharm": {
     "name": "#%%\n"
    }
   },
   "outputs": [],
   "source": []
  },
  {
   "cell_type": "code",
   "execution_count": 27,
   "metadata": {
    "pycharm": {
     "name": "#%%\n"
    }
   },
   "outputs": [
    {
     "name": "stdout",
     "output_type": "stream",
     "text": [
      "   uid  iid  time_slot  click\n",
      "0    0    0          0      5\n",
      "1    0  100          5      5\n",
      "(6625965, 2)\n"
     ]
    }
   ],
   "source": [
    "user_items_test = data_train.sort_values(by='uid',ignore_index=True)\n",
    "print(user_items_test.head(2))\n",
    "test_itr = user_items_test.values[:,0:2]\n",
    "print(test_itr.shape)\n",
    "with open('./douban_moive/train.txt','w') as f:\n",
    "    u_pre = test_itr[0,0]\n",
    "    k = 0\n",
    "    for x in test_itr:\n",
    "        u = x[0]\n",
    "        i = x[1]\n",
    "        if u !=u_pre or k==0:\n",
    "            u_pre = u\n",
    "            if k>0:\n",
    "                f.write('\\n')\n",
    "            f.write(str(u))\n",
    "            k = 1\n",
    "        f.write(' '+str(i))"
   ]
  },
  {
   "cell_type": "code",
   "execution_count": 27,
   "metadata": {
    "pycharm": {
     "name": "#%%\n"
    }
   },
   "outputs": [],
   "source": []
  },
  {
   "cell_type": "code",
   "execution_count": 28,
   "metadata": {
    "pycharm": {
     "name": "#%%\n"
    }
   },
   "outputs": [],
   "source": [
    "data_train.to_csv(\"./douban_moive/train_with_time.txt\",index=False,header=False,sep=' ')"
   ]
  },
  {
   "cell_type": "code",
   "execution_count": 29,
   "metadata": {
    "pycharm": {
     "name": "#%%\n"
    }
   },
   "outputs": [],
   "source": [
    "data_real_valid.to_csv(\"./douban_moive/valid_with_time.txt\",index=False,header=False,sep=' ')\n",
    "data_real_test.to_csv(\"./douban_moive/test_with_time.txt\",index=False,header=False,sep=' ')"
   ]
  },
  {
   "cell_type": "code",
   "execution_count": 30,
   "metadata": {
    "pycharm": {
     "name": "#%%\n"
    }
   },
   "outputs": [
    {
     "data": {
      "text/plain": [
       "26046"
      ]
     },
     "execution_count": 30,
     "metadata": {},
     "output_type": "execute_result"
    }
   ],
   "source": [
    "data_train['iid'].max()\n"
   ]
  },
  {
   "cell_type": "code",
   "execution_count": 31,
   "metadata": {
    "pycharm": {
     "name": "#%%\n"
    }
   },
   "outputs": [
    {
     "name": "stdout",
     "output_type": "stream",
     "text": [
      "    uid  iid  time_slot  click\n",
      "0     0    0          0      5\n",
      "1  9824    0          0     -1\n",
      "   iid   uid\n",
      "0    0     0\n",
      "1    0  9824\n",
      "(973800, 4)\n",
      "     uid  iid  time_slot  click\n",
      "0  25851    0          1     -1\n",
      "1   8166    0          1      3\n",
      "   iid    uid\n",
      "0    0  25851\n",
      "1    0   8166\n",
      "(795705, 4)\n",
      "     uid  iid  time_slot  click\n",
      "0  12675    0          2      5\n",
      "1  33222    0          2     -1\n",
      "   iid    uid\n",
      "0    0  12675\n",
      "1    0  33222\n",
      "(705637, 4)\n",
      "     uid  iid  time_slot  click\n",
      "0   7517    0          3      4\n",
      "1  12320    0          3      4\n",
      "   iid    uid\n",
      "0    0   7517\n",
      "1    0  12320\n",
      "(636706, 4)\n",
      "     uid  iid  time_slot  click\n",
      "0  36421    0          4     -1\n",
      "1  10946    0          4      3\n",
      "   iid    uid\n",
      "0    0  36421\n",
      "1    0  10946\n",
      "(631387, 4)\n",
      "     uid  iid  time_slot  click\n",
      "0  36789    0          5      4\n",
      "1  16292    0          5      3\n",
      "   iid    uid\n",
      "0    0  36789\n",
      "1    0  16292\n",
      "(524913, 4)\n",
      "     uid  iid  time_slot  click\n",
      "0  36607    0          6     -1\n",
      "1  39181    0          6     -1\n",
      "   iid    uid\n",
      "0    0  36607\n",
      "1    0  39181\n",
      "(733527, 4)\n",
      "     uid  iid  time_slot  click\n",
      "0  30970    0          7     -1\n",
      "1  41167    0          7      2\n",
      "   iid    uid\n",
      "0    0  30970\n",
      "1    0  41167\n",
      "(838223, 4)\n",
      "     uid  iid  time_slot  click\n",
      "0  32637    0          8      5\n",
      "1  42696    0          8      3\n",
      "   iid    uid\n",
      "0    0  32637\n",
      "1    0  42696\n",
      "(786067, 4)\n"
     ]
    }
   ],
   "source": [
    "for slot_id in train_slots:\n",
    "    slot_data = data_train[data_train['time_slot'].isin([slot_id])]\n",
    "    slot_data  = slot_data.sort_values(by=['iid'],ignore_index=True)\n",
    "    slot_data_np = slot_data[['iid','uid']].values[:,0:2]\n",
    "    print(slot_data.head(2))\n",
    "    print(slot_data[['iid','uid']].head(2))\n",
    "    print(slot_data.shape)\n",
    "    with open(\"./douban_moive/t_\"+str(slot_id)+\".txt\",'w') as f:\n",
    "        i_pre = slot_data_np[0,0]\n",
    "        k = 0\n",
    "        for x in slot_data_np:\n",
    "            i_ = x[0]\n",
    "            u_ = x[1]\n",
    "            if i_ != i_pre or k == 0:\n",
    "                i_pre = i_\n",
    "                if k>0:\n",
    "                    f.write('\\n')\n",
    "                f.write(str(i_))\n",
    "                k = 1\n",
    "            f.write(\" \" + str(u_))"
   ]
  },
  {
   "cell_type": "code",
   "execution_count": 31,
   "metadata": {
    "pycharm": {
     "name": "#%%\n"
    }
   },
   "outputs": [],
   "source": []
  },
  {
   "cell_type": "code",
   "execution_count": 32,
   "metadata": {
    "pycharm": {
     "name": "#%%\n"
    }
   },
   "outputs": [
    {
     "name": "stdout",
     "output_type": "stream",
     "text": [
      "     uid  iid  time_slot  click\n",
      "0  37572    0          9      5\n",
      "1  38896    0          9      5\n",
      "   iid    uid\n",
      "0    0  37572\n",
      "1    0  38896\n",
      "(548253, 4)\n"
     ]
    }
   ],
   "source": [
    "slot_data = data_test\n",
    "slot_data  = slot_data.sort_values(by=['iid'],ignore_index=True)\n",
    "slot_data_np = slot_data[['iid','uid']].values[:,0:2]\n",
    "print(slot_data.head(2))\n",
    "print(slot_data[['iid','uid']].head(2))\n",
    "print(slot_data.shape)\n",
    "with open(\"./douban_moive/t_\"+str(9)+\".txt\",'w') as f:\n",
    "    i_pre = slot_data_np[0,0]\n",
    "    k = 0\n",
    "    for x in slot_data_np:\n",
    "        i_ = x[0]\n",
    "        u_ = x[1]\n",
    "        if i_ != i_pre or k == 0:\n",
    "            i_pre = i_\n",
    "            if k>0:\n",
    "                f.write('\\n')\n",
    "            f.write(str(i_))\n",
    "            k = 1\n",
    "        f.write(\" \" + str(u_))\n"
   ]
  },
  {
   "cell_type": "markdown",
   "metadata": {},
   "source": [
    "# pop anly"
   ]
  },
  {
   "cell_type": "code",
   "execution_count": 33,
   "metadata": {
    "pycharm": {
     "name": "#%%\n"
    }
   },
   "outputs": [
    {
     "name": "stdout",
     "output_type": "stream",
     "text": [
      "train slots: [0 1 2 5 3 4 6 7 8]\n",
      "K: 0 itr count: 973800 unique item: 15049\n",
      "K: 1 itr count: 795705 unique item: 16198\n",
      "K: 2 itr count: 705637 unique item: 17243\n",
      "K: 5 itr count: 524913 unique item: 18215\n",
      "K: 3 itr count: 636706 unique item: 17875\n",
      "K: 4 itr count: 631387 unique item: 18315\n",
      "K: 6 itr count: 733527 unique item: 19935\n",
      "K: 7 itr count: 838223 unique item: 21031\n",
      "K: 8 itr count: 786067 unique item: 21869\n"
     ]
    }
   ],
   "source": [
    "train_slot = data_train['time_slot'].unique()\n",
    "print(\"train slots:\",train_slot)\n",
    "item_click_count_train = []\n",
    "for k in train_slot:\n",
    "    train_k = data_train[data_train['time_slot'].isin([k])]\n",
    "    print(\"K:\",k,\"itr count:\",train_k.shape[0],\"unique item:\",train_k['iid'].unique().shape[0])\n",
    "    train_k_item_group = train_k.groupby('iid').agg({'click':['count']})\n",
    "    train_k_item = train_k_item_group.sort_values(by=('click','count'),ascending=False)\n",
    "    train_k_item.columns = ['click_count_{}'.format(k)]\n",
    "    k_item_click_count = train_k_item.values[:,0]\n",
    "    k_item_click_count = k_item_click_count #*1.0/k_item_click_count.sum()\n",
    "    train_k_item['click_count_{}'.format(k)] = pd.DataFrame(k_item_click_count,index=train_k_item.index)\n",
    "    item_click_count_train.append(train_k_item)"
   ]
  },
  {
   "cell_type": "code",
   "execution_count": 34,
   "metadata": {
    "pycharm": {
     "name": "#%%\n"
    }
   },
   "outputs": [],
   "source": [
    "pop_tot =  data_train.groupby('iid').agg({'click':'count'})\n",
    "pop_tot.columns = ['tot_click']\n",
    "pop_info  = pop_tot\n",
    "pop_info.head(2)\n",
    "\n",
    "pop_test =  data_test.groupby('iid').agg({'click':'count'})\n",
    "pop_test.columns = ['test_click']\n",
    "pop_info = pop_info.join(pop_test)\n"
   ]
  },
  {
   "cell_type": "code",
   "execution_count": 35,
   "metadata": {
    "pycharm": {
     "name": "#%%\n"
    }
   },
   "outputs": [],
   "source": [
    "for i in range(len(item_click_count_train)):\n",
    "    pop_info = pop_info.join(item_click_count_train[i])\n",
    "pop_info = pop_info.fillna(0)"
   ]
  },
  {
   "cell_type": "code",
   "execution_count": 36,
   "metadata": {
    "pycharm": {
     "name": "#%%\n"
    }
   },
   "outputs": [
    {
     "name": "stdout",
     "output_type": "stream",
     "text": [
      "(26047, 11)\n"
     ]
    },
    {
     "data": {
      "text/html": [
       "<div>\n",
       "<style scoped>\n",
       "    .dataframe tbody tr th:only-of-type {\n",
       "        vertical-align: middle;\n",
       "    }\n",
       "\n",
       "    .dataframe tbody tr th {\n",
       "        vertical-align: top;\n",
       "    }\n",
       "\n",
       "    .dataframe thead th {\n",
       "        text-align: right;\n",
       "    }\n",
       "</style>\n",
       "<table border=\"1\" class=\"dataframe\">\n",
       "  <thead>\n",
       "    <tr style=\"text-align: right;\">\n",
       "      <th></th>\n",
       "      <th>tot_click</th>\n",
       "      <th>test_click</th>\n",
       "      <th>click_count_0</th>\n",
       "      <th>click_count_1</th>\n",
       "      <th>click_count_2</th>\n",
       "      <th>click_count_5</th>\n",
       "      <th>click_count_3</th>\n",
       "      <th>click_count_4</th>\n",
       "      <th>click_count_6</th>\n",
       "      <th>click_count_7</th>\n",
       "      <th>click_count_8</th>\n",
       "    </tr>\n",
       "    <tr>\n",
       "      <th>iid</th>\n",
       "      <th></th>\n",
       "      <th></th>\n",
       "      <th></th>\n",
       "      <th></th>\n",
       "      <th></th>\n",
       "      <th></th>\n",
       "      <th></th>\n",
       "      <th></th>\n",
       "      <th></th>\n",
       "      <th></th>\n",
       "      <th></th>\n",
       "    </tr>\n",
       "  </thead>\n",
       "  <tbody>\n",
       "    <tr>\n",
       "      <th>0</th>\n",
       "      <td>16644</td>\n",
       "      <td>328.0</td>\n",
       "      <td>10236.0</td>\n",
       "      <td>1104.0</td>\n",
       "      <td>818.0</td>\n",
       "      <td>545.0</td>\n",
       "      <td>646.0</td>\n",
       "      <td>628.0</td>\n",
       "      <td>1058.0</td>\n",
       "      <td>995.0</td>\n",
       "      <td>614.0</td>\n",
       "    </tr>\n",
       "    <tr>\n",
       "      <th>1</th>\n",
       "      <td>7603</td>\n",
       "      <td>448.0</td>\n",
       "      <td>1150.0</td>\n",
       "      <td>784.0</td>\n",
       "      <td>704.0</td>\n",
       "      <td>523.0</td>\n",
       "      <td>685.0</td>\n",
       "      <td>691.0</td>\n",
       "      <td>1190.0</td>\n",
       "      <td>1058.0</td>\n",
       "      <td>818.0</td>\n",
       "    </tr>\n",
       "  </tbody>\n",
       "</table>\n",
       "</div>"
      ],
      "text/plain": [
       "     tot_click  test_click  click_count_0  click_count_1  click_count_2  \\\n",
       "iid                                                                       \n",
       "0        16644       328.0        10236.0         1104.0          818.0   \n",
       "1         7603       448.0         1150.0          784.0          704.0   \n",
       "\n",
       "     click_count_5  click_count_3  click_count_4  click_count_6  \\\n",
       "iid                                                               \n",
       "0            545.0          646.0          628.0         1058.0   \n",
       "1            523.0          685.0          691.0         1190.0   \n",
       "\n",
       "     click_count_7  click_count_8  \n",
       "iid                                \n",
       "0            995.0          614.0  \n",
       "1           1058.0          818.0  "
      ]
     },
     "execution_count": 36,
     "metadata": {},
     "output_type": "execute_result"
    }
   ],
   "source": [
    "print(pop_info.shape)\n",
    "\n",
    "pop_info.head(2)\n"
   ]
  },
  {
   "cell_type": "code",
   "execution_count": 37,
   "metadata": {
    "pycharm": {
     "name": "#%%\n"
    }
   },
   "outputs": [],
   "source": [
    "import matplotlib.pyplot as plt"
   ]
  },
  {
   "cell_type": "code",
   "execution_count": 38,
   "metadata": {
    "pycharm": {
     "name": "#%%\n"
    }
   },
   "outputs": [
    {
     "data": {
      "text/plain": [
       "[<matplotlib.lines.Line2D at 0x1dc0fadf0d0>]"
      ]
     },
     "execution_count": 38,
     "metadata": {},
     "output_type": "execute_result"
    },
    {
     "data": {
      "image/png": "[encoded data removed]",
      "text/plain": [
       "<Figure size 432x288 with 1 Axes>"
      ]
     },
     "metadata": {
      "needs_background": "light"
     },
     "output_type": "display_data"
    }
   ],
   "source": [
    "ref_pop = pop_info['click_count_{}'.format(7)].values #\n",
    "# ref_pop = pop_info['tot_click'].values\n",
    "# ref_pop = pop_info['test_click'].values # pop_info['click_count_{}'.format(0)].values#\n",
    "index1  = np.argsort(ref_pop)\n",
    "ref_m = ref_pop[index1].copy()\n",
    "ref_m += 1\n",
    "# ref_m = ref_m / ref_m.sum()\n",
    "# ref_m = (ref_m-ref_m.min()) / (ref_m.max()-ref_m.min())\n",
    "plt.plot(ref_m)"
   ]
  },
  {
   "cell_type": "code",
   "execution_count": 39,
   "metadata": {
    "pycharm": {
     "name": "#%%\n"
    }
   },
   "outputs": [
    {
     "data": {
      "text/plain": [
       "[<matplotlib.lines.Line2D at 0x1dc0fe033d0>]"
      ]
     },
     "execution_count": 39,
     "metadata": {},
     "output_type": "execute_result"
    },
    {
     "data": {
      "image/png": "[encoded data removed]",
      "text/plain": [
       "<Figure size 432x288 with 1 Axes>"
      ]
     },
     "metadata": {
      "needs_background": "light"
     },
     "output_type": "display_data"
    }
   ],
   "source": [
    "m = pop_info['tot_click'].values[index1]\n",
    "m += 1\n",
    "# m = m/m.sum()\n",
    "# m = (m-m.min())/(m.max()-m.min())\n",
    "plt.plot(m)"
   ]
  },
  {
   "cell_type": "code",
   "execution_count": 40,
   "metadata": {
    "pycharm": {
     "name": "#%%\n"
    }
   },
   "outputs": [
    {
     "data": {
      "text/plain": [
       "[<matplotlib.lines.Line2D at 0x1dc0fdd6070>]"
      ]
     },
     "execution_count": 40,
     "metadata": {},
     "output_type": "execute_result"
    },
    {
     "data": {
      "image/png": "[encoded data removed]",
      "text/plain": [
       "<Figure size 432x288 with 1 Axes>"
      ]
     },
     "metadata": {
      "needs_background": "light"
     },
     "output_type": "display_data"
    }
   ],
   "source": [
    "m = pop_info['test_click'].values[index1]\n",
    "m += 1\n",
    "# m = m/m.sum()\n",
    "# m = (m-m.min())/(m.max()-m.min())\n",
    "plt.plot(m)"
   ]
  },
  {
   "cell_type": "code",
   "execution_count": 41,
   "metadata": {
    "pycharm": {
     "name": "#%%\n"
    }
   },
   "outputs": [
    {
     "data": {
      "text/plain": [
       "[<matplotlib.lines.Line2D at 0x1dc0feb3ee0>]"
      ]
     },
     "execution_count": 41,
     "metadata": {},
     "output_type": "execute_result"
    },
    {
     "data": {
      "image/png": "[encoded data removed]",
      "text/plain": [
       "<Figure size 432x288 with 1 Axes>"
      ]
     },
     "metadata": {
      "needs_background": "light"
     },
     "output_type": "display_data"
    }
   ],
   "source": [
    "m8 = pop_info['click_count_{}'.format(8)].values[index1]\n",
    "m8 += 1\n",
    "# m = m/m.sum()\n",
    "# m8 = (m-m.min())/(m.max()-m.min())\n",
    "plt.plot(m8)\n"
   ]
  },
  {
   "cell_type": "code",
   "execution_count": 42,
   "metadata": {
    "pycharm": {
     "name": "#%%\n"
    }
   },
   "outputs": [
    {
     "data": {
      "text/plain": [
       "[<matplotlib.lines.Line2D at 0x1dc0fec95b0>]"
      ]
     },
     "execution_count": 42,
     "metadata": {},
     "output_type": "execute_result"
    },
    {
     "data": {
      "image/png": "[encoded data removed]",
      "text/plain": [
       "<Figure size 432x288 with 1 Axes>"
      ]
     },
     "metadata": {
      "needs_background": "light"
     },
     "output_type": "display_data"
    }
   ],
   "source": [
    "m7 = pop_info['click_count_{}'.format(7)].values[index1]\n",
    "m7 += 1\n",
    "# m = m/m.sum()\n",
    "# m7 = (m-m.min())/(m.max()-m.min())\n",
    "plt.plot(m7)"
   ]
  },
  {
   "cell_type": "code",
   "execution_count": 43,
   "metadata": {
    "pycharm": {
     "name": "#%%\n"
    }
   },
   "outputs": [
    {
     "data": {
      "text/plain": [
       "[<matplotlib.lines.Line2D at 0x1dc0ff615b0>]"
      ]
     },
     "execution_count": 43,
     "metadata": {},
     "output_type": "execute_result"
    },
    {
     "data": {
      "image/png": "[encoded data removed]",
      "text/plain": [
       "<Figure size 432x288 with 1 Axes>"
      ]
     },
     "metadata": {
      "needs_background": "light"
     },
     "output_type": "display_data"
    }
   ],
   "source": [
    "d = m8-m7\n",
    "# index2 = np.where(m8<200)\n",
    "# index3 = np.where(d>0)\n",
    "# index  = np.intersect1d(index2[0],index3[0])\n",
    "# d[index] *= 100\n",
    "plt.plot(m8+0.1*d)"
   ]
  },
  {
   "cell_type": "code",
   "execution_count": 43,
   "metadata": {
    "pycharm": {
     "name": "#%%\n"
    }
   },
   "outputs": [],
   "source": []
  },
  {
   "cell_type": "code",
   "execution_count": 44,
   "metadata": {
    "pycharm": {
     "name": "#%%\n"
    }
   },
   "outputs": [
    {
     "data": {
      "text/plain": [
       "[<matplotlib.lines.Line2D at 0x1dc0ffc11f0>]"
      ]
     },
     "execution_count": 44,
     "metadata": {},
     "output_type": "execute_result"
    },
    {
     "data": {
      "image/png": "[encoded data removed]",
      "text/plain": [
       "<Figure size 432x288 with 1 Axes>"
      ]
     },
     "metadata": {
      "needs_background": "light"
     },
     "output_type": "display_data"
    }
   ],
   "source": [
    "m = pop_info['click_count_{}'.format(6)].values[index1]\n",
    "m += 1\n",
    "# m = m/m.sum()\n",
    "# m7 = (m-m.min())/(m.max()-m.min())\n",
    "plt.plot(m)\n"
   ]
  },
  {
   "cell_type": "code",
   "execution_count": 45,
   "metadata": {
    "pycharm": {
     "name": "#%%\n"
    }
   },
   "outputs": [],
   "source": [
    "s_idx =index1[8000:12000]\n"
   ]
  },
  {
   "cell_type": "code",
   "execution_count": 46,
   "metadata": {
    "pycharm": {
     "name": "#%%\n"
    }
   },
   "outputs": [
    {
     "ename": "NameError",
     "evalue": "name 'idx2' is not defined",
     "output_type": "error",
     "traceback": [
      "\u001b[1;31m---------------------------------------------------------------------------\u001b[0m",
      "\u001b[1;31mNameError\u001b[0m                                 Traceback (most recent call last)",
      "\u001b[1;32m<ipython-input-46-e730b00248e9>\u001b[0m in \u001b[0;36m<module>\u001b[1;34m\u001b[0m\n\u001b[1;32m----> 1\u001b[1;33m \u001b[0mplt\u001b[0m\u001b[1;33m.\u001b[0m\u001b[0mplot\u001b[0m\u001b[1;33m(\u001b[0m\u001b[0mpop_info\u001b[0m\u001b[1;33m[\u001b[0m\u001b[1;34m'click_count_{}'\u001b[0m\u001b[1;33m.\u001b[0m\u001b[0mformat\u001b[0m\u001b[1;33m(\u001b[0m\u001b[1;36m8\u001b[0m\u001b[1;33m)\u001b[0m\u001b[1;33m]\u001b[0m\u001b[1;33m.\u001b[0m\u001b[0mvalues\u001b[0m\u001b[1;33m[\u001b[0m\u001b[0ms_idx\u001b[0m\u001b[1;33m]\u001b[0m\u001b[1;33m[\u001b[0m\u001b[0midx2\u001b[0m\u001b[1;33m]\u001b[0m\u001b[1;33m)\u001b[0m\u001b[1;33m\u001b[0m\u001b[1;33m\u001b[0m\u001b[0m\n\u001b[0m\u001b[0;32m      2\u001b[0m \u001b[1;33m\u001b[0m\u001b[0m\n\u001b[0;32m      3\u001b[0m \u001b[1;33m\u001b[0m\u001b[0m\n",
      "\u001b[1;31mNameError\u001b[0m: name 'idx2' is not defined"
     ]
    }
   ],
   "source": [
    "plt.plot(pop_info['click_count_{}'.format(8)].values[s_idx][idx2])\n"
   ]
  },
  {
   "cell_type": "code",
   "execution_count": null,
   "metadata": {
    "pycharm": {
     "name": "#%%\n"
    }
   },
   "outputs": [],
   "source": [
    "plt.plot(pop_info['tot_click'].values[s_idx][idx2])"
   ]
  },
  {
   "cell_type": "code",
   "execution_count": null,
   "metadata": {
    "pycharm": {
     "name": "#%%\n"
    }
   },
   "outputs": [],
   "source": [
    "plt.plot(pop_info['test_click'].values[s_idx][idx2])\n"
   ]
  },
  {
   "cell_type": "code",
   "execution_count": null,
   "metadata": {
    "pycharm": {
     "name": "#%%\n"
    }
   },
   "outputs": [],
   "source": [
    "mm = pop_info['test_click'].values[s_idx]\n",
    "idx2 = np.argsort(-mm)[0:20]\n",
    "\n",
    "\n"
   ]
  }
 ],
 "metadata": {
  "kernelspec": {
   "display_name": "Python 3",
   "language": "python",
   "name": "python3"
  },
  "language_info": {
   "codemirror_mode": {
    "name": "ipython",
    "version": 3
   },
   "file_extension": ".py",
   "mimetype": "text/x-python",
   "name": "python",
   "nbconvert_exporter": "python",
   "pygments_lexer": "ipython3",
   "version": "3.8.5"
  }
 },
 "nbformat": 4,
 "nbformat_minor": 1
}
